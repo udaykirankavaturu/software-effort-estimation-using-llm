{
 "cells": [
  {
   "cell_type": "markdown",
   "metadata": {},
   "source": [
    "# Software Effort Estimation Using LLMs\n",
    "\n",
    "This research work aims to check and evaluate the performance of GPT-4 and LLAMA-3 towards software effort estimation in a zero shot setting and a trained setting."
   ]
  },
  {
   "cell_type": "code",
   "execution_count": 2,
   "metadata": {},
   "outputs": [],
   "source": [
    "# import libraries\n",
    "import mysql.connector\n",
    "import pandas as pd"
   ]
  },
  {
   "cell_type": "code",
   "execution_count": 3,
   "metadata": {},
   "outputs": [],
   "source": [
    "# Connect to MySQL\n",
    "conn = mysql.connector.connect(\n",
    "    host=\"localhost\",\n",
    "    user=\"root\",\n",
    "    password=\"My-N7w_And.5ecure-P@s5w0rd\",\n",
    "    database=\"local\"\n",
    ")"
   ]
  },
  {
   "cell_type": "code",
   "execution_count": 4,
   "metadata": {},
   "outputs": [
    {
     "name": "stderr",
     "output_type": "stream",
     "text": [
      "/tmp/ipykernel_217248/1919074633.py:3: UserWarning: pandas only supports SQLAlchemy connectable (engine/connection) or database string URI or sqlite3 DBAPI2 connection. Other DBAPI2 objects are not tested. Please consider using SQLAlchemy.\n",
      "  df = pd.read_sql(query, conn)\n"
     ]
    }
   ],
   "source": [
    "# Read table into DataFrame\n",
    "query = \"SELECT * FROM Issue\"\n",
    "df = pd.read_sql(query, conn)"
   ]
  },
  {
   "cell_type": "code",
   "execution_count": 5,
   "metadata": {},
   "outputs": [],
   "source": [
    "# Close connection\n",
    "conn.close()"
   ]
  },
  {
   "cell_type": "code",
   "execution_count": 6,
   "metadata": {},
   "outputs": [
    {
     "name": "stdout",
     "output_type": "stream",
     "text": [
      "   ID  Jira_ID Issue_Key                                            URL  \\\n",
      "0  65    77638   XD-3768  https://jira.spring.io/rest/api/2/issue/77638   \n",
      "1  66    77511   XD-3767  https://jira.spring.io/rest/api/2/issue/77511   \n",
      "2  67    77130   XD-3766  https://jira.spring.io/rest/api/2/issue/77130   \n",
      "3  68    71950   XD-3765  https://jira.spring.io/rest/api/2/issue/71950   \n",
      "4  69    71805   XD-3764  https://jira.spring.io/rest/api/2/issue/71805   \n",
      "\n",
      "                                               Title  \\\n",
      "0     \"How do I make a job restartable in spring xd\"   \n",
      "1      \"admin config timezone command does not work\"   \n",
      "2  \"Module Upload command not pushing jar to all ...   \n",
      "3                             \"Fix stream failover \"   \n",
      "4  \"SpringXD Job is still executing even after fo...   \n",
      "\n",
      "                                         Description  \\\n",
      "0  \"The jobs that appear under Executions section...   \n",
      "1  \"Working with Spring-XD version 1.3.2.RELEASE ...   \n",
      "2  \"My project 7 node cluster and in that 2 node ...   \n",
      "3  \"See https://github.com/spring-projects/spring...   \n",
      "4  \"I'm trying to run a Job on SpringXD and the j...   \n",
      "\n",
      "                                    Description_Text  \\\n",
      "0  \"\"\"The jobs that appear under Executions secti...   \n",
      "1  \"\"\"Working with Spring-XD version 1.3.2.RELEAS...   \n",
      "2  \"\"\"My project 7 node cluster and in that 2 nod...   \n",
      "3  \"\"\"See https://github.com/spring-projects/spri...   \n",
      "4  \"\"\"I'm trying to run a Job on SpringXD and the...   \n",
      "\n",
      "                                    Description_Code   Type Priority  ...  \\\n",
      "0                                                       Bug    Major  ...   \n",
      "1  \" xd:>admin config admin config info        ad...    Bug  Trivial  ...   \n",
      "2                                                       Bug    Major  ...   \n",
      "3                                                     Story    Minor  ...   \n",
      "4                                                       Bug    Major  ...   \n",
      "\n",
      "  Resolution_Time_Minutes Title_Changed_After_Estimation  \\\n",
      "0                     0.0                              0   \n",
      "1                     0.0                              0   \n",
      "2                     0.0                              0   \n",
      "3                     0.0                              1   \n",
      "4                     0.0                              0   \n",
      "\n",
      "  Description_Changed_After_Estimation Story_Point_Changed_After_Estimation  \\\n",
      "0                                    0                                    0   \n",
      "1                                    0                                    0   \n",
      "2                                    0                                    0   \n",
      "3                                    0                                    0   \n",
      "4                                    0                                    0   \n",
      "\n",
      "  Pull_Request_URL Creator_ID  Reporter_ID  Assignee_ID  Project_ID  Sprint_ID  \n",
      "0                        68.0         68.0          NaN           1        NaN  \n",
      "1                        69.0         69.0          NaN           1        NaN  \n",
      "2                        70.0         70.0          NaN           1        NaN  \n",
      "3                        72.0         72.0         71.0           1        NaN  \n",
      "4                        73.0         73.0          NaN           1        NaN  \n",
      "\n",
      "[5 rows x 30 columns]\n"
     ]
    }
   ],
   "source": [
    "# Display first few rows of the DataFrame\n",
    "print(df.head())"
   ]
  }
 ],
 "metadata": {
  "kernelspec": {
   "display_name": "Python 3",
   "language": "python",
   "name": "python3"
  },
  "language_info": {
   "codemirror_mode": {
    "name": "ipython",
    "version": 3
   },
   "file_extension": ".py",
   "mimetype": "text/x-python",
   "name": "python",
   "nbconvert_exporter": "python",
   "pygments_lexer": "ipython3",
   "version": "3.10.12"
  }
 },
 "nbformat": 4,
 "nbformat_minor": 2
}
